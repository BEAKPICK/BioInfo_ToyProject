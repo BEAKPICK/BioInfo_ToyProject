{
 "cells": [
  {
   "cell_type": "markdown",
   "metadata": {},
   "source": [
    "## Bioinformatics in Python\n",
    "* youtube rebelCoder\n",
    "\n",
    "https://www.youtube.com/channel/UCsEHLUCZo0q6rWAcStd5DuA"
   ]
  },
  {
   "cell_type": "code",
   "execution_count": 1,
   "metadata": {},
   "outputs": [
    {
     "name": "stdout",
     "output_type": "stream",
     "text": [
      "\n",
      "Sequence: \u001b[93mG\u001b[94mC\u001b[91mT\u001b[93mG\u001b[93mG\u001b[94mC\u001b[92mA\u001b[91mT\u001b[93mG\u001b[94mC\u001b[94mC\u001b[91mT\u001b[92mA\u001b[93mG\u001b[93mG\u001b[92mA\u001b[92mA\u001b[92mA\u001b[93mG\u001b[94mC\u001b[93mG\u001b[92mA\u001b[92mA\u001b[92mA\u001b[94mC\u001b[93mG\u001b[92mA\u001b[94mC\u001b[92mA\u001b[91mT\u001b[93mG\u001b[94mC\u001b[93mG\u001b[94mC\u001b[92mA\u001b[92mA\u001b[91mT\u001b[94mC\u001b[92mA\u001b[94mC\u001b[91mT\u001b[94mC\u001b[94mC\u001b[92mA\u001b[94mC\u001b[91mT\u001b[91mT\u001b[93mG\u001b[92mA\u001b[91mT\u001b[0;0m\n",
      "\n",
      "[1] + Sequence Length : 50\n",
      "\n",
      "\u001b[0;0m[\u001b[0;0m2\u001b[0;0m]\u001b[0;0m \u001b[0;0m+\u001b[0;0m \u001b[0;0mN\u001b[0;0mu\u001b[0;0mc\u001b[0;0ml\u001b[0;0me\u001b[0;0mo\u001b[0;0mt\u001b[0;0mi\u001b[0;0md\u001b[0;0me\u001b[0;0m \u001b[0;0mF\u001b[0;0mr\u001b[0;0me\u001b[0;0mq\u001b[0;0mu\u001b[0;0me\u001b[0;0mn\u001b[0;0mc\u001b[0;0my\u001b[0;0m \u001b[0;0m:\u001b[0;0m \u001b[0;0m{\u001b[0;0m'\u001b[92mA\u001b[0;0m'\u001b[0;0m:\u001b[0;0m \u001b[0;0m1\u001b[0;0m5\u001b[0;0m,\u001b[0;0m \u001b[0;0m'\u001b[94mC\u001b[0;0m'\u001b[0;0m:\u001b[0;0m \u001b[0;0m1\u001b[0;0m4\u001b[0;0m,\u001b[0;0m \u001b[0;0m'\u001b[93mG\u001b[0;0m'\u001b[0;0m:\u001b[0;0m \u001b[0;0m1\u001b[0;0m2\u001b[0;0m,\u001b[0;0m \u001b[0;0m'\u001b[91mT\u001b[0;0m'\u001b[0;0m:\u001b[0;0m \u001b[0;0m9\u001b[0;0m}\u001b[0;0m\n",
      "\u001b[0;0m\n",
      "\u001b[0;0m[\u001b[0;0m3\u001b[0;0m]\u001b[0;0m \u001b[0;0m+\u001b[0;0m \u001b[0;0mD\u001b[0;0mN\u001b[92mA\u001b[0;0m/\u001b[0;0mR\u001b[0;0mN\u001b[92mA\u001b[0;0m \u001b[91mT\u001b[0;0mr\u001b[0;0ma\u001b[0;0mn\u001b[0;0ms\u001b[0;0mc\u001b[0;0mr\u001b[0;0mi\u001b[0;0mp\u001b[0;0mt\u001b[0;0mi\u001b[0;0mo\u001b[0;0mn\u001b[0;0m \u001b[0;0m:\u001b[0;0m \u001b[93mG\u001b[94mC\u001b[91mU\u001b[93mG\u001b[93mG\u001b[94mC\u001b[92mA\u001b[91mU\u001b[93mG\u001b[94mC\u001b[94mC\u001b[91mU\u001b[92mA\u001b[93mG\u001b[93mG\u001b[92mA\u001b[92mA\u001b[92mA\u001b[93mG\u001b[94mC\u001b[93mG\u001b[92mA\u001b[92mA\u001b[92mA\u001b[94mC\u001b[93mG\u001b[92mA\u001b[94mC\u001b[92mA\u001b[91mU\u001b[93mG\u001b[94mC\u001b[93mG\u001b[94mC\u001b[92mA\u001b[92mA\u001b[91mU\u001b[94mC\u001b[92mA\u001b[94mC\u001b[91mU\u001b[94mC\u001b[94mC\u001b[92mA\u001b[94mC\u001b[91mU\u001b[91mU\u001b[93mG\u001b[92mA\u001b[91mU\u001b[0;0m\n",
      "\u001b[0;0m\n",
      "\u001b[0;0m[\u001b[0;0m4\u001b[0;0m]\u001b[0;0m \u001b[0;0m+\u001b[0;0m \u001b[0;0mD\u001b[0;0mN\u001b[92mA\u001b[0;0m \u001b[0;0mS\u001b[0;0mt\u001b[0;0mr\u001b[0;0mi\u001b[0;0mn\u001b[0;0mg\u001b[0;0m \u001b[0;0mR\u001b[0;0me\u001b[0;0mv\u001b[0;0me\u001b[0;0mr\u001b[0;0ms\u001b[0;0me\u001b[0;0m \u001b[94mC\u001b[0;0mo\u001b[0;0mm\u001b[0;0mp\u001b[0;0ml\u001b[0;0me\u001b[0;0mm\u001b[0;0me\u001b[0;0mn\u001b[0;0mt\u001b[0;0m:\u001b[0;0m\n",
      "\u001b[0;0m \u001b[0;0m \u001b[0;0m \u001b[0;0m \u001b[0;0m5\u001b[0;0m'\u001b[0;0m \u001b[93mG\u001b[94mC\u001b[91mT\u001b[93mG\u001b[93mG\u001b[94mC\u001b[92mA\u001b[91mT\u001b[93mG\u001b[94mC\u001b[94mC\u001b[91mT\u001b[92mA\u001b[93mG\u001b[93mG\u001b[92mA\u001b[92mA\u001b[92mA\u001b[93mG\u001b[94mC\u001b[93mG\u001b[92mA\u001b[92mA\u001b[92mA\u001b[94mC\u001b[93mG\u001b[92mA\u001b[94mC\u001b[92mA\u001b[91mT\u001b[93mG\u001b[94mC\u001b[93mG\u001b[94mC\u001b[92mA\u001b[92mA\u001b[91mT\u001b[94mC\u001b[92mA\u001b[94mC\u001b[91mT\u001b[94mC\u001b[94mC\u001b[92mA\u001b[94mC\u001b[91mT\u001b[91mT\u001b[93mG\u001b[92mA\u001b[91mT\u001b[0;0m \u001b[0;0m3\u001b[0;0m'\u001b[0;0m\n",
      "       ||||||||||||||||||||||||||||||||||||||||||||||||||\n",
      "\u001b[0;0m \u001b[0;0m \u001b[0;0m \u001b[0;0m \u001b[0;0m3\u001b[0;0m'\u001b[0;0m \u001b[92mA\u001b[91mT\u001b[94mC\u001b[92mA\u001b[92mA\u001b[93mG\u001b[91mT\u001b[93mG\u001b[93mG\u001b[92mA\u001b[93mG\u001b[91mT\u001b[93mG\u001b[92mA\u001b[91mT\u001b[91mT\u001b[93mG\u001b[94mC\u001b[93mG\u001b[94mC\u001b[92mA\u001b[91mT\u001b[93mG\u001b[91mT\u001b[94mC\u001b[93mG\u001b[91mT\u001b[91mT\u001b[91mT\u001b[94mC\u001b[93mG\u001b[94mC\u001b[91mT\u001b[91mT\u001b[91mT\u001b[94mC\u001b[94mC\u001b[91mT\u001b[92mA\u001b[93mG\u001b[93mG\u001b[94mC\u001b[92mA\u001b[91mT\u001b[93mG\u001b[94mC\u001b[94mC\u001b[92mA\u001b[93mG\u001b[94mC\u001b[0;0m \u001b[0;0m5\u001b[0;0m'\u001b[0;0m\n",
      "\u001b[0;0m\n",
      "[5] + GC Content : 52%\n",
      "\n",
      "[6] + GC Content in Subsection : [80, 60, 60, 40, 40, 40, 80, 40, 60, 20]%\n",
      "\n",
      "[7] + Aminoacids Sequence from DNA : ['A', 'G', 'M', 'P', 'R', 'K', 'A', 'K', 'R', 'H', 'A', 'Q', 'S', 'L', 'H', 'L']%\n",
      "\n",
      "[8] + Codon frequency (L) : {'CTC': 0.5, 'TTG': 0.5}\n",
      "\n",
      "[9] + Reading frames:\n",
      "\n",
      "['A', 'G', 'M', 'P', 'R', 'K', 'A', 'K', 'R', 'H', 'A', 'Q', 'S', 'L', 'H', 'L']\n",
      "['L', 'A', 'C', 'L', 'G', 'K', 'R', 'N', 'D', 'M', 'R', 'N', 'H', 'S', 'T', '_']\n",
      "['W', 'H', 'A', '_', 'E', 'S', 'E', 'T', 'T', 'C', 'A', 'I', 'T', 'P', 'L', 'D']\n",
      "['I', 'K', 'W', 'S', 'D', 'C', 'A', 'C', 'R', 'F', 'A', 'F', 'L', 'G', 'M', 'P']\n",
      "['S', 'S', 'G', 'V', 'I', 'A', 'H', 'V', 'V', 'S', 'L', 'S', '_', 'A', 'C', 'Q']\n",
      "['Q', 'V', 'E', '_', 'L', 'R', 'M', 'S', 'F', 'R', 'F', 'P', 'R', 'H', 'A', 'S']\n"
     ]
    }
   ],
   "source": [
    "#DNA Toolset/Code testing file\n",
    "from DNAToolkit import *\n",
    "from utilities import colored\n",
    "import random\n",
    "\n",
    "rndDNAStr = ''.join([random.choice(Nucleotides) for nuc in range(50)])\n",
    "DNAStr = validateSeq(rndDNAStr)\n",
    "\n",
    "print(f\"\\nSequence: {colored(DNAStr)}\\n\")\n",
    "print(f'[1] + Sequence Length : {len(DNAStr)}\\n')\n",
    "print(colored(f'[2] + Nucleotide Frequency : {countNucFrequency(DNAStr)}\\n'))\n",
    "print(colored(f'[3] + DNA/RNA Transcription : {transcription(DNAStr)}\\n'))\n",
    "print(colored(f\"[4] + DNA String Reverse Complement:\\n    5' {DNAStr} 3'\"))\n",
    "print(f\"       {''.join(['|' for c in range(len(DNAStr))])}\")\n",
    "print(colored(f\"    3' {reverse_complement(DNAStr)} 5'\\n\"))\n",
    "print(f'[5] + GC Content : {gc_content(DNAStr)}%\\n')\n",
    "print(f'[6] + GC Content in Subsection : {gc_content_subsec(DNAStr, k=5)}%\\n')\n",
    "print(f'[7] + Aminoacids Sequence from DNA : {translate_seq(DNAStr, 0)}%\\n')\n",
    "print(f\"[8] + Codon frequency (L) : {codon_usage(DNAStr, 'L')}\\n\")\n",
    "print('[9] + Reading frames:\\n')\n",
    "for frame in gen_reading_frames(DNAStr):\n",
    "    print(frame)\n"
   ]
  },
  {
   "cell_type": "code",
   "execution_count": 2,
   "metadata": {},
   "outputs": [
    {
     "name": "stdout",
     "output_type": "stream",
     "text": [
      "['MTALVVL']\n"
     ]
    }
   ],
   "source": [
    "from DNAToolkit import *\n",
    "test_rf_frame = ['L', 'M', 'T', 'A', 'L', 'V', 'V', 'L', '_', 'R', \n",
    "                 'R', 'G', 'S', 'S', 'G', 'H']\n",
    "print(proteins_from_rf(test_rf_frame))"
   ]
  },
  {
   "cell_type": "code",
   "execution_count": 3,
   "metadata": {},
   "outputs": [
    {
     "name": "stdout",
     "output_type": "stream",
     "text": [
      "\n",
      "[10] + All proteins in 6 open reading frames\n",
      "MALWMRLLPLLALLALWGPDPAAAFVNQHLCGSHLVEALYLVCGERGFFYTPKTRREAEDLQVGQVELGGGPGAGSLQPLALEGSLQKRGIVEQCCTSICSLYQLENYCN\n",
      "MRLLPLLALLALWGPDPAAAFVNQHLCGSHLVEALYLVCGERGFFYTPKTRREAEDLQVGQVELGGGPGAGSLQPLALEGSLQKRGIVEQCCTSICSLYQLENYCN\n",
      "MLVQHCSTMPRFCRDPSRAKGCRLPAPGPPPSSTCPTCRSSASRRVLGV\n",
      "MPRFCRDPSRAKGCRLPAPGPPPSSTCPTCRSSASRRVLGV\n",
      "MAEGQ\n",
      "ME\n"
     ]
    }
   ],
   "source": [
    "print('\\n[10] + All proteins in 6 open reading frames')\n",
    "for prot in all_proteins_from_orfs(NM_000207_3, 0, 0, True):\n",
    "    print(f'{prot}')\n",
    "#one of them should be equal to\n",
    "#MALWMRLLPLLALLALWGPDPAAAFVNQHLCGSHLVEALYLVCGERGFFYTPKTRREAEDLQVGQVELGGGPGAGSLQPLALEGSLQKRGIVEQCCTSICSLYQLENYCN"
   ]
  },
  {
   "cell_type": "code",
   "execution_count": 2,
   "metadata": {},
   "outputs": [
    {
     "name": "stdout",
     "output_type": "stream",
     "text": [
      "[Label]: Test Label\n",
      "[Sequence]: ATCGG\n",
      "[Biotype]: DNA\n",
      "[Length]:5\n",
      "DNA\n"
     ]
    },
    {
     "data": {
      "text/plain": [
       "True"
      ]
     },
     "execution_count": 2,
     "metadata": {},
     "output_type": "execute_result"
    }
   ],
   "source": [
    "from bio_seq import bio_seq\n",
    "\n",
    "test_dna = bio_seq(\"ATCGG\", \"DNA\", \"Test Label\")\n",
    "print(test_dna.get_seq_info())\n",
    "print(test_dna.get_seq_biotype())\n",
    "test_dna.is_valid"
   ]
  },
  {
   "cell_type": "code",
   "execution_count": 3,
   "metadata": {},
   "outputs": [
    {
     "name": "stdout",
     "output_type": "stream",
     "text": [
      "[Label]: Randomly generated sequence\n",
      "[Sequence]: ACCGCAGAGATTAGATCGCTGGACCGAGGGTACCTAAGCT\n",
      "[Biotype]: DNA\n",
      "[Length]:40\n",
      "{'A': 11, 'C': 10, 'G': 12, 'T': 7}\n",
      "ACCGCAGAGATTAGATCGCTGGACCGAGGGTACCTAAGCT\n",
      "ACCGCAGAGAUUAGAUCGCUGGACCGAGGGUACCUAAGCU\n",
      "AGCTTAGGTACCCTCGGTCCAGCGATCTAATCTCTGCGGT\n",
      "55\n",
      "[50, 60]\n",
      "['T', 'A', 'E', 'I', 'R', 'S', 'L', 'D', 'R', 'G', 'Y', 'L', 'S']\n",
      "{'CTG': 0.5, 'CTA': 0.5}\n"
     ]
    }
   ],
   "source": [
    "test_dna.generate_rnd_seq(40, \"DNA\")\n",
    "print(test_dna.get_seq_info())\n",
    "print(test_dna.nucleotide_frequency())\n",
    "print(test_dna.seq)\n",
    "print(test_dna.transcription())#전사\n",
    "print(test_dna.reverse_complement())\n",
    "print(test_dna.gc_content())\n",
    "print(test_dna.gc_content_subsec())\n",
    "print(test_dna.translate_seq())#번역\n",
    "print(test_dna.codon_usage('L'))"
   ]
  },
  {
   "cell_type": "code",
   "execution_count": 4,
   "metadata": {},
   "outputs": [
    {
     "name": "stdout",
     "output_type": "stream",
     "text": [
      "['T', 'A', 'E', 'I', 'R', 'S', 'L', 'D', 'R', 'G', 'Y', 'L', 'S']\n",
      "['P', 'Q', 'R', 'L', 'D', 'R', 'W', 'T', 'E', 'G', 'T', '_', 'A']\n",
      "['R', 'R', 'D', '_', 'I', 'A', 'G', 'P', 'R', 'V', 'P', 'K']\n",
      "['S', 'L', 'G', 'T', 'L', 'G', 'P', 'A', 'I', '_', 'S', 'L', 'R']\n",
      "['A', '_', 'V', 'P', 'S', 'V', 'Q', 'R', 'S', 'N', 'L', 'C', 'G']\n",
      "['L', 'R', 'Y', 'P', 'R', 'S', 'S', 'D', 'L', 'I', 'S', 'A']\n"
     ]
    }
   ],
   "source": [
    "for rf in test_dna.gen_reading_frames():\n",
    "    print(rf)"
   ]
  },
  {
   "cell_type": "code",
   "execution_count": 5,
   "metadata": {},
   "outputs": [
    {
     "name": "stdout",
     "output_type": "stream",
     "text": [
      "['MIRAQQHLTCVV']\n"
     ]
    }
   ],
   "source": [
    "print(test_dna.proteins_from_orfs(['M', 'I', 'R', 'A', 'Q', 'Q', 'H', 'L', 'T', 'C', 'V', 'V', '_']))"
   ]
  },
  {
   "cell_type": "code",
   "execution_count": 6,
   "metadata": {},
   "outputs": [
    {
     "name": "stdout",
     "output_type": "stream",
     "text": [
      "[]\n"
     ]
    }
   ],
   "source": [
    "print(test_dna.all_proteins_from_orfs())"
   ]
  },
  {
   "cell_type": "code",
   "execution_count": 7,
   "metadata": {},
   "outputs": [
    {
     "name": "stdout",
     "output_type": "stream",
     "text": [
      "[Label]: Randomly generated sequence\n",
      "[Sequence]: AACGAAGACCUCGCCUUCAGCCACACGCCAGCGUAUCGUG\n",
      "[Biotype]: RNA\n",
      "[Length]:40\n",
      "{'A': 10, 'C': 15, 'G': 9, 'U': 6}\n",
      "AACGAAGACCUCGCCUUCAGCCACACGCCAGCGUAUCGUG\n",
      "Not a DNA Sequence\n",
      "CACGAUACGCUGGCGUGUGGCUGAAGGCGAGGUCUUCGUU\n",
      "60\n",
      "[55, 65]\n",
      "['N', 'E', 'D', 'L', 'A', 'F', 'S', 'H', 'T', 'P', 'A', 'Y', 'R']\n",
      "{'CUC': 1.0}\n"
     ]
    }
   ],
   "source": [
    "test_dna.generate_rnd_seq(40, \"RNA\")\n",
    "print(test_dna.get_seq_info())\n",
    "print(test_dna.nucleotide_frequency())\n",
    "print(test_dna.seq)\n",
    "print(test_dna.transcription())#전사\n",
    "print(test_dna.reverse_complement())\n",
    "print(test_dna.gc_content())\n",
    "print(test_dna.gc_content_subsec())\n",
    "print(test_dna.translate_seq())#번역\n",
    "print(test_dna.codon_usage('L'))"
   ]
  },
  {
   "cell_type": "code",
   "execution_count": 8,
   "metadata": {},
   "outputs": [
    {
     "name": "stdout",
     "output_type": "stream",
     "text": [
      "['N', 'E', 'D', 'L', 'A', 'F', 'S', 'H', 'T', 'P', 'A', 'Y', 'R']\n",
      "['T', 'K', 'T', 'S', 'P', 'S', 'A', 'T', 'R', 'Q', 'R', 'I', 'V']\n",
      "['R', 'R', 'P', 'R', 'L', 'Q', 'P', 'H', 'A', 'S', 'V', 'S']\n",
      "['H', 'D', 'T', 'L', 'A', 'C', 'G', '_', 'R', 'R', 'G', 'L', 'R']\n",
      "['T', 'I', 'R', 'W', 'R', 'V', 'A', 'E', 'G', 'E', 'V', 'F', 'V']\n",
      "['R', 'Y', 'A', 'G', 'V', 'W', 'L', 'K', 'A', 'R', 'S', 'S']\n"
     ]
    }
   ],
   "source": [
    "for rf in test_dna.gen_reading_frames():\n",
    "    print(rf)"
   ]
  },
  {
   "cell_type": "code",
   "execution_count": 9,
   "metadata": {},
   "outputs": [
    {
     "name": "stdout",
     "output_type": "stream",
     "text": [
      "['MIRAQQHLTCVV']\n"
     ]
    }
   ],
   "source": [
    "print(test_dna.proteins_from_orfs(['M', 'I', 'R', 'A', 'Q', 'Q', 'H', 'L', 'T', 'C', 'V', 'V', '_']))"
   ]
  },
  {
   "cell_type": "code",
   "execution_count": 10,
   "metadata": {},
   "outputs": [
    {
     "name": "stdout",
     "output_type": "stream",
     "text": [
      "[]\n"
     ]
    }
   ],
   "source": [
    "print(test_dna.all_proteins_from_orfs())"
   ]
  },
  {
   "cell_type": "code",
   "execution_count": 13,
   "metadata": {},
   "outputs": [],
   "source": [
    "from utilities import read_FASTA, readTextFile, writeTextFile\n",
    "writeTextFile(\"test.txt\", test_dna.seq)\n",
    "for rf in test_dna.gen_reading_frames():\n",
    "    writeTextFile(\"test.txt\", str(rf), 'a')"
   ]
  },
  {
   "cell_type": "code",
   "execution_count": null,
   "metadata": {},
   "outputs": [],
   "source": []
  }
 ],
 "metadata": {
  "kernelspec": {
   "display_name": "Python 3",
   "language": "python",
   "name": "python3"
  },
  "language_info": {
   "codemirror_mode": {
    "name": "ipython",
    "version": 3
   },
   "file_extension": ".py",
   "mimetype": "text/x-python",
   "name": "python",
   "nbconvert_exporter": "python",
   "pygments_lexer": "ipython3",
   "version": "3.7.6"
  },
  "toc": {
   "base_numbering": 1,
   "nav_menu": {},
   "number_sections": true,
   "sideBar": true,
   "skip_h1_title": false,
   "title_cell": "Table of Contents",
   "title_sidebar": "Contents",
   "toc_cell": false,
   "toc_position": {},
   "toc_section_display": true,
   "toc_window_display": false
  },
  "varInspector": {
   "cols": {
    "lenName": 16,
    "lenType": 16,
    "lenVar": 40
   },
   "kernels_config": {
    "python": {
     "delete_cmd_postfix": "",
     "delete_cmd_prefix": "del ",
     "library": "var_list.py",
     "varRefreshCmd": "print(var_dic_list())"
    },
    "r": {
     "delete_cmd_postfix": ") ",
     "delete_cmd_prefix": "rm(",
     "library": "var_list.r",
     "varRefreshCmd": "cat(var_dic_list()) "
    }
   },
   "types_to_exclude": [
    "module",
    "function",
    "builtin_function_or_method",
    "instance",
    "_Feature"
   ],
   "window_display": false
  }
 },
 "nbformat": 4,
 "nbformat_minor": 4
}
