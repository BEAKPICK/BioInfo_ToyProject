{
 "cells": [
  {
   "cell_type": "markdown",
   "metadata": {},
   "source": [
    "## Bioinformatics in Python\n",
    "* youtube rebelCoder\n",
    "\n",
    "https://www.youtube.com/channel/UCsEHLUCZo0q6rWAcStd5DuA"
   ]
  },
  {
   "cell_type": "code",
   "execution_count": 6,
   "metadata": {},
   "outputs": [
    {
     "name": "stdout",
     "output_type": "stream",
     "text": [
      "\n",
      "Sequence: \u001b[92mA\u001b[93mG\u001b[94mC\u001b[91mT\u001b[91mT\u001b[94mC\u001b[93mG\u001b[93mG\u001b[91mT\u001b[93mG\u001b[94mC\u001b[92mA\u001b[92mA\u001b[93mG\u001b[91mT\u001b[94mC\u001b[94mC\u001b[94mC\u001b[93mG\u001b[94mC\u001b[94mC\u001b[94mC\u001b[93mG\u001b[93mG\u001b[93mG\u001b[94mC\u001b[91mT\u001b[92mA\u001b[91mT\u001b[91mT\u001b[92mA\u001b[93mG\u001b[94mC\u001b[93mG\u001b[91mT\u001b[93mG\u001b[92mA\u001b[91mT\u001b[94mC\u001b[92mA\u001b[91mT\u001b[94mC\u001b[94mC\u001b[94mC\u001b[94mC\u001b[94mC\u001b[92mA\u001b[91mT\u001b[91mT\u001b[92mA\u001b[0;0m\n",
      "\n",
      "[1]+ Sequence Length : 50\n",
      "\n",
      "\u001b[0;0m[\u001b[0;0m2\u001b[0;0m]\u001b[0;0m+\u001b[0;0m \u001b[0;0mN\u001b[0;0mu\u001b[0;0mc\u001b[0;0ml\u001b[0;0me\u001b[0;0mo\u001b[0;0mt\u001b[0;0mi\u001b[0;0md\u001b[0;0me\u001b[0;0m \u001b[0;0mF\u001b[0;0mr\u001b[0;0me\u001b[0;0mq\u001b[0;0mu\u001b[0;0me\u001b[0;0mn\u001b[0;0mc\u001b[0;0my\u001b[0;0m \u001b[0;0m:\u001b[0;0m \u001b[0;0m{\u001b[0;0m'\u001b[92mA\u001b[0;0m'\u001b[0;0m:\u001b[0;0m \u001b[0;0m9\u001b[0;0m,\u001b[0;0m \u001b[0;0m'\u001b[93mG\u001b[0;0m'\u001b[0;0m:\u001b[0;0m \u001b[0;0m1\u001b[0;0m2\u001b[0;0m,\u001b[0;0m \u001b[0;0m'\u001b[94mC\u001b[0;0m'\u001b[0;0m:\u001b[0;0m \u001b[0;0m1\u001b[0;0m7\u001b[0;0m,\u001b[0;0m \u001b[0;0m'\u001b[91mT\u001b[0;0m'\u001b[0;0m:\u001b[0;0m \u001b[0;0m1\u001b[0;0m2\u001b[0;0m}\u001b[0;0m\n",
      "\u001b[0;0m\n",
      "\u001b[0;0m[\u001b[0;0m3\u001b[0;0m]\u001b[0;0m \u001b[0;0m+\u001b[0;0m \u001b[0;0mD\u001b[0;0mN\u001b[92mA\u001b[0;0m/\u001b[0;0mR\u001b[0;0mN\u001b[92mA\u001b[0;0m \u001b[91mT\u001b[0;0mr\u001b[0;0ma\u001b[0;0mn\u001b[0;0ms\u001b[0;0mc\u001b[0;0mr\u001b[0;0mi\u001b[0;0mp\u001b[0;0mt\u001b[0;0mi\u001b[0;0mo\u001b[0;0mn\u001b[0;0m \u001b[0;0m:\u001b[0;0m \u001b[92mA\u001b[93mG\u001b[94mC\u001b[91mU\u001b[91mU\u001b[94mC\u001b[93mG\u001b[93mG\u001b[91mU\u001b[93mG\u001b[94mC\u001b[92mA\u001b[92mA\u001b[93mG\u001b[91mU\u001b[94mC\u001b[94mC\u001b[94mC\u001b[93mG\u001b[94mC\u001b[94mC\u001b[94mC\u001b[93mG\u001b[93mG\u001b[93mG\u001b[94mC\u001b[91mU\u001b[92mA\u001b[91mU\u001b[91mU\u001b[92mA\u001b[93mG\u001b[94mC\u001b[93mG\u001b[91mU\u001b[93mG\u001b[92mA\u001b[91mU\u001b[94mC\u001b[92mA\u001b[91mU\u001b[94mC\u001b[94mC\u001b[94mC\u001b[94mC\u001b[94mC\u001b[92mA\u001b[91mU\u001b[91mU\u001b[92mA\u001b[0;0m\n",
      "\u001b[0;0m\n",
      "\u001b[0;0m[\u001b[0;0m4\u001b[0;0m]\u001b[0;0m \u001b[0;0m+\u001b[0;0m \u001b[0;0mD\u001b[0;0mN\u001b[92mA\u001b[0;0m \u001b[0;0mS\u001b[0;0mt\u001b[0;0mr\u001b[0;0mi\u001b[0;0mn\u001b[0;0mg\u001b[0;0m \u001b[0;0mR\u001b[0;0me\u001b[0;0mv\u001b[0;0me\u001b[0;0mr\u001b[0;0ms\u001b[0;0me\u001b[0;0m \u001b[94mC\u001b[0;0mo\u001b[0;0mm\u001b[0;0mp\u001b[0;0ml\u001b[0;0me\u001b[0;0mm\u001b[0;0me\u001b[0;0mn\u001b[0;0mt\u001b[0;0m:\u001b[0;0m\n",
      "\u001b[0;0m \u001b[0;0m \u001b[0;0m \u001b[0;0m \u001b[0;0m5\u001b[0;0m'\u001b[0;0m \u001b[92mA\u001b[93mG\u001b[94mC\u001b[91mT\u001b[91mT\u001b[94mC\u001b[93mG\u001b[93mG\u001b[91mT\u001b[93mG\u001b[94mC\u001b[92mA\u001b[92mA\u001b[93mG\u001b[91mT\u001b[94mC\u001b[94mC\u001b[94mC\u001b[93mG\u001b[94mC\u001b[94mC\u001b[94mC\u001b[93mG\u001b[93mG\u001b[93mG\u001b[94mC\u001b[91mT\u001b[92mA\u001b[91mT\u001b[91mT\u001b[92mA\u001b[93mG\u001b[94mC\u001b[93mG\u001b[91mT\u001b[93mG\u001b[92mA\u001b[91mT\u001b[94mC\u001b[92mA\u001b[91mT\u001b[94mC\u001b[94mC\u001b[94mC\u001b[94mC\u001b[94mC\u001b[92mA\u001b[91mT\u001b[91mT\u001b[92mA\u001b[0;0m \u001b[0;0m3\u001b[0;0m'\u001b[0;0m\n",
      "       ||||||||||||||||||||||||||||||||||||||||||||||||||\n",
      "\u001b[0;0m \u001b[0;0m \u001b[0;0m \u001b[0;0m \u001b[0;0m3\u001b[0;0m'\u001b[0;0m \u001b[91mT\u001b[92mA\u001b[92mA\u001b[91mT\u001b[93mG\u001b[93mG\u001b[93mG\u001b[93mG\u001b[93mG\u001b[92mA\u001b[91mT\u001b[93mG\u001b[92mA\u001b[91mT\u001b[94mC\u001b[92mA\u001b[94mC\u001b[93mG\u001b[94mC\u001b[91mT\u001b[92mA\u001b[92mA\u001b[91mT\u001b[92mA\u001b[93mG\u001b[94mC\u001b[94mC\u001b[94mC\u001b[93mG\u001b[93mG\u001b[93mG\u001b[94mC\u001b[93mG\u001b[93mG\u001b[93mG\u001b[92mA\u001b[94mC\u001b[91mT\u001b[91mT\u001b[93mG\u001b[94mC\u001b[92mA\u001b[94mC\u001b[94mC\u001b[93mG\u001b[92mA\u001b[92mA\u001b[93mG\u001b[94mC\u001b[91mT\u001b[0;0m \u001b[0;0m5\u001b[0;0m'\u001b[0;0m\n",
      "\u001b[0;0m\n"
     ]
    }
   ],
   "source": [
    "#DNA Toolset/Code testing file\n",
    "from DNAToolkit import *\n",
    "from utilities import colored\n",
    "import random\n",
    "\n",
    "rndDNAStr = ''.join([random.choice(Nucleotides) for nuc in range(50)])\n",
    "DNAStr = validateSeq(rndDNAStr)\n",
    "\n",
    "print(f\"\\nSequence: {colored(DNAStr)}\\n\")\n",
    "# print(f'\\nSequence: {DNAStr}\\n')\n",
    "print(f'[1]+ Sequence Length : {len(DNAStr)}\\n')\n",
    "print(colored(f'[2]+ Nucleotide Frequency : {countNucFrequency(DNAStr)}\\n'))\n",
    "print(colored(f'[3] + DNA/RNA Transcription : {transcription(DNAStr)}\\n'))\n",
    "print(colored(f\"[4] + DNA String Reverse Complement:\\n    5' {DNAStr} 3'\"))\n",
    "print(f\"       {''.join(['|' for c in range(len(DNAStr))])}\")\n",
    "print(colored(f\"    3' {reverse_complement(DNAStr)} 5'\\n\"))\n"
   ]
  },
  {
   "cell_type": "code",
   "execution_count": null,
   "metadata": {},
   "outputs": [],
   "source": []
  },
  {
   "cell_type": "code",
   "execution_count": null,
   "metadata": {},
   "outputs": [],
   "source": []
  }
 ],
 "metadata": {
  "kernelspec": {
   "display_name": "Python 3",
   "language": "python",
   "name": "python3"
  },
  "language_info": {
   "codemirror_mode": {
    "name": "ipython",
    "version": 3
   },
   "file_extension": ".py",
   "mimetype": "text/x-python",
   "name": "python",
   "nbconvert_exporter": "python",
   "pygments_lexer": "ipython3",
   "version": "3.7.6"
  },
  "toc": {
   "base_numbering": 1,
   "nav_menu": {},
   "number_sections": true,
   "sideBar": true,
   "skip_h1_title": false,
   "title_cell": "Table of Contents",
   "title_sidebar": "Contents",
   "toc_cell": false,
   "toc_position": {},
   "toc_section_display": true,
   "toc_window_display": false
  },
  "varInspector": {
   "cols": {
    "lenName": 16,
    "lenType": 16,
    "lenVar": 40
   },
   "kernels_config": {
    "python": {
     "delete_cmd_postfix": "",
     "delete_cmd_prefix": "del ",
     "library": "var_list.py",
     "varRefreshCmd": "print(var_dic_list())"
    },
    "r": {
     "delete_cmd_postfix": ") ",
     "delete_cmd_prefix": "rm(",
     "library": "var_list.r",
     "varRefreshCmd": "cat(var_dic_list()) "
    }
   },
   "types_to_exclude": [
    "module",
    "function",
    "builtin_function_or_method",
    "instance",
    "_Feature"
   ],
   "window_display": false
  }
 },
 "nbformat": 4,
 "nbformat_minor": 4
}
